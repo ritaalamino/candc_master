{
  "nbformat": 4,
  "nbformat_minor": 0,
  "metadata": {
    "colab": {
      "provenance": [],
      "collapsed_sections": [
        "mSQjVHfXh8DB"
      ],
      "authorship_tag": "ABX9TyN0PWI3spxHdw2qWRScmhvW",
      "include_colab_link": true
    },
    "kernelspec": {
      "name": "python3",
      "display_name": "Python 3"
    },
    "language_info": {
      "name": "python"
    }
  },
  "cells": [
    {
      "cell_type": "markdown",
      "metadata": {
        "id": "view-in-github",
        "colab_type": "text"
      },
      "source": [
        "<a href=\"https://colab.research.google.com/github/ritaalamino/candc_master/blob/main/CANDC_local.ipynb\" target=\"_parent\"><img src=\"https://colab.research.google.com/assets/colab-badge.svg\" alt=\"Open In Colab\"/></a>"
      ]
    },
    {
      "cell_type": "markdown",
      "source": [
        "\n",
        "## *CANDC*"
      ],
      "metadata": {
        "id": "adgXyruqkykM"
      }
    },
    {
      "cell_type": "markdown",
      "source": [
        "Funções não suportadas\n",
        "\n",
        "*   --semantics\n",
        "*   --modal\n",
        "*   --elimeq não muda nada\n",
        "*   --vpe  não muda nada\n",
        "*   --robust  não muda nada\n",
        "*   --roles  não muda nada"
      ],
      "metadata": {
        "id": "75xGl5cKkygN"
      }
    },
    {
      "cell_type": "markdown",
      "source": [
        "##Importa bibliotecas"
      ],
      "metadata": {
        "id": "1cOiFeZthl-N"
      }
    },
    {
      "cell_type": "code",
      "execution_count": null,
      "metadata": {
        "id": "DCckjt2xjVAx"
      },
      "outputs": [],
      "source": [
        "# Import das bibliotecas.\n",
        "\n",
        "# Biblioteca de logging\n",
        "import logging\n",
        "import subprocess"
      ]
    },
    {
      "cell_type": "code",
      "source": [
        "from google.colab import drive\n",
        "drive.mount('/content/drive')"
      ],
      "metadata": {
        "id": "3TnVYKL0d1hZ"
      },
      "execution_count": null,
      "outputs": []
    },
    {
      "cell_type": "markdown",
      "source": [
        "## Instala libraries necessárias"
      ],
      "metadata": {
        "id": "uD74OHryhrtc"
      }
    },
    {
      "cell_type": "code",
      "source": [
        "!sudo apt-get install libreadline-dev"
      ],
      "metadata": {
        "id": "y3j9uzkjh5cC"
      },
      "execution_count": null,
      "outputs": []
    },
    {
      "cell_type": "code",
      "source": [
        "!sudo apt-get install swi-prolog"
      ],
      "metadata": {
        "id": "yULhKY1Ed2to"
      },
      "execution_count": null,
      "outputs": []
    },
    {
      "cell_type": "code",
      "source": [
        "!swipl --version\n",
        "!ln -s $(which swipl) /usr/bin/pl"
      ],
      "metadata": {
        "id": "9YIkWZp_d56T"
      },
      "execution_count": null,
      "outputs": []
    },
    {
      "cell_type": "code",
      "source": [
        "!apt-get install -y make"
      ],
      "metadata": {
        "id": "64jMxN9Md4AH"
      },
      "execution_count": null,
      "outputs": []
    },
    {
      "cell_type": "code",
      "source": [
        "!sudo apt-get install lib32readline-dev"
      ],
      "metadata": {
        "id": "AnYq2Uu_g6ZL"
      },
      "execution_count": null,
      "outputs": []
    },
    {
      "cell_type": "code",
      "source": [
        "!sudo ln -sf /lib32/libreadline.so.8.1 /lib32/libreadline.so.4"
      ],
      "metadata": {
        "id": "oALDk5Xqg7qZ"
      },
      "execution_count": null,
      "outputs": []
    },
    {
      "cell_type": "code",
      "source": [
        "!sudo apt-get install lib32ncurses-dev"
      ],
      "metadata": {
        "id": "f8_O5XWKg96-"
      },
      "execution_count": null,
      "outputs": []
    },
    {
      "cell_type": "code",
      "source": [
        "!sudo ln -sf /lib32/libncurses.so.6 /lib32/libncurses.so.5"
      ],
      "metadata": {
        "id": "sjYKqSfgg-_y"
      },
      "execution_count": null,
      "outputs": []
    },
    {
      "cell_type": "markdown",
      "source": [
        "## Cria diretórios locais"
      ],
      "metadata": {
        "id": "xTpbaq44hu1-"
      }
    },
    {
      "cell_type": "code",
      "source": [
        "# Diretório do cohebert\n",
        "DIRETORIO_CANDC = \"CANDC\"\n",
        "\n",
        "# Diretório local para os arquivos pré-processados\n",
        "DIRETORIO_LOCAL = \"/content/\" + DIRETORIO_CANDC + \"/\"\n",
        "\n",
        "# Diretório no google drive com os arquivos pré-processados\n",
        "DIRETORIO_DRIVE = \"/content/drive/MyDrive/Colab Notebooks/Data/\" + DIRETORIO_CANDC + \"/\""
      ],
      "metadata": {
        "id": "MomTbN-ed7o2"
      },
      "execution_count": null,
      "outputs": []
    },
    {
      "cell_type": "code",
      "source": [
        "# Nome do arquivo\n",
        "NOME_ARQUIVO_ORIGINAL_COMPACTADO = \"candc-1.00.zip\""
      ],
      "metadata": {
        "id": "JccAOx8Qd9IE"
      },
      "execution_count": null,
      "outputs": []
    },
    {
      "cell_type": "code",
      "source": [
        "# Import das bibliotecas.\n",
        "import sys # Biblioteca para acessar módulos do sistema\n",
        "\n",
        "# Se estiver executando no Google Colaboratory\n",
        "# Retorna true ou false se estiver no Google Colaboratory\n",
        "IN_COLAB = \"google.colab\" in sys.modules"
      ],
      "metadata": {
        "id": "aLARccgWeMAZ"
      },
      "execution_count": null,
      "outputs": []
    },
    {
      "cell_type": "code",
      "source": [
        "# Importando as bibliotecas.\n",
        "import os\n",
        "\n",
        "# Cria o diretório para receber os arquivos Originais e Permutados\n",
        "# Diretório a ser criado\n",
        "dirbase = DIRETORIO_LOCAL[:-1]\n",
        "\n",
        "if not os.path.exists(dirbase):\n",
        "    # Cria o diretório\n",
        "    os.makedirs(dirbase)\n",
        "    logging.info(\"Diretório criado: {}\".format(dirbase))\n",
        "else:\n",
        "    logging.info(\"Diretório já existe: {}\".format(dirbase))"
      ],
      "metadata": {
        "id": "fuzbKiVRefvC"
      },
      "execution_count": null,
      "outputs": []
    },
    {
      "cell_type": "code",
      "source": [
        "# Se estiver executando no Google Colaboratory\n",
        "if IN_COLAB:\n",
        "\n",
        "  !cp \"$DIRETORIO_DRIVE$NOME_ARQUIVO_ORIGINAL_COMPACTADO\" \"$DIRETORIO_LOCAL\"\n",
        "\n",
        "  logging.info(\"Terminei a cópia.\")"
      ],
      "metadata": {
        "id": "nL2uAepjegqS"
      },
      "execution_count": null,
      "outputs": []
    },
    {
      "cell_type": "code",
      "source": [
        "# Se estiver executando no Google Colaboratory\n",
        "if IN_COLAB:\n",
        "  !unzip -o -q \"$DIRETORIO_LOCAL$NOME_ARQUIVO_ORIGINAL_COMPACTADO\" -d \"$DIRETORIO_LOCAL\"\n",
        "\n",
        "  logging.info(\"Terminei a descompactação.\")"
      ],
      "metadata": {
        "id": "7YUCc5Jgehea"
      },
      "execution_count": null,
      "outputs": []
    },
    {
      "cell_type": "code",
      "source": [
        "os.chdir('./CANDC/candc-1.00')"
      ],
      "metadata": {
        "id": "92PUt9jpeorw"
      },
      "execution_count": null,
      "outputs": []
    },
    {
      "cell_type": "code",
      "source": [
        "!chmod -R +x /content/CANDC/candc-1.00"
      ],
      "metadata": {
        "id": "WmJo7DRwhtmR"
      },
      "execution_count": null,
      "outputs": []
    },
    {
      "cell_type": "markdown",
      "source": [
        "## Verifica se arquivos estão corretos"
      ],
      "metadata": {
        "id": "0VZOxFuRh53P"
      }
    },
    {
      "cell_type": "code",
      "source": [
        "#!chmod +x bin/candc\n",
        "!bin/candc --version"
      ],
      "metadata": {
        "id": "fZYb7fvYffNU"
      },
      "execution_count": null,
      "outputs": []
    },
    {
      "cell_type": "markdown",
      "source": [
        "## Gera testes Every Man Run\n",
        "Mostra modelo na tela"
      ],
      "metadata": {
        "id": "mSQjVHfXh8DB"
      }
    },
    {
      "cell_type": "code",
      "source": [
        "!echo \"Every man runs.\" | bin/candc --models models/boxer"
      ],
      "metadata": {
        "id": "uLkxRn41hVux"
      },
      "execution_count": null,
      "outputs": []
    },
    {
      "cell_type": "markdown",
      "source": [
        "### Salva o modelo na pasta definida"
      ],
      "metadata": {
        "id": "ddgLUm-Knuqu"
      }
    },
    {
      "cell_type": "code",
      "source": [
        "!echo \"Every man runs .\" | bin/candc --models models/boxer > working/test2.ccg"
      ],
      "metadata": {
        "id": "ZMqQJ98tnD31"
      },
      "execution_count": null,
      "outputs": []
    },
    {
      "cell_type": "markdown",
      "source": [
        "### Cria relações do boxer padrão prolog semantics drs\n",
        "Salva na pasta CANDC/candc-1.00/working"
      ],
      "metadata": {
        "id": "L403Gatmns9D"
      }
    },
    {
      "cell_type": "code",
      "source": [
        "!bin/boxer --input working/test2.ccg --box true --flat true > working/boxer_output_padrao.ccg"
      ],
      "metadata": {
        "id": "AUYC8934heac"
      },
      "execution_count": null,
      "outputs": []
    },
    {
      "cell_type": "markdown",
      "source": [
        "### Cria relações do boxer xml"
      ],
      "metadata": {
        "id": "crHjpNlFnqMR"
      }
    },
    {
      "cell_type": "code",
      "source": [
        "!bin/boxer --input working/test2.ccg --box true --flat true --format xml > working/boxer_output_xml.ccg"
      ],
      "metadata": {
        "id": "e05_rVl2iyD1"
      },
      "execution_count": null,
      "outputs": []
    },
    {
      "cell_type": "markdown",
      "source": [
        "### Cria relações do boxer latex"
      ],
      "metadata": {
        "id": "80oDTwaKnop_"
      }
    },
    {
      "cell_type": "code",
      "source": [
        "!bin/boxer --input working/test2.ccg --box true --flat true --format latex > working/boxer_output_latex.ccg"
      ],
      "metadata": {
        "id": "9ONq_HBhjN2t"
      },
      "execution_count": null,
      "outputs": []
    },
    {
      "cell_type": "markdown",
      "source": [
        "### Instancia os referentes do discurso para mais fácil identificação"
      ],
      "metadata": {
        "id": "p8kwIbvRnmQM"
      }
    },
    {
      "cell_type": "code",
      "source": [
        "!bin/boxer --input working/test2.ccg --box true --flat true --instantiate true > working/boxer_output_instantiate.ccg"
      ],
      "metadata": {
        "id": "tTwqpAnnjpOz"
      },
      "execution_count": null,
      "outputs": []
    },
    {
      "cell_type": "markdown",
      "source": [
        "### Instancia os referentes do discurso para mais fácil identificação XM"
      ],
      "metadata": {
        "id": "IEB0jW4fhWEU"
      }
    },
    {
      "cell_type": "code",
      "source": [
        "!bin/boxer --input working/test2.ccg --box true --flat true --instantiate true --format xml> working/boxer_output_xml_inst.ccg"
      ],
      "metadata": {
        "id": "dvgTM1VdkMIS"
      },
      "execution_count": null,
      "outputs": []
    },
    {
      "cell_type": "markdown",
      "source": [
        "## Gera testes\n",
        "### A hill is an area of land that is higher than the land that surrounds it.\n",
        "Mostra modelo na tela"
      ],
      "metadata": {
        "id": "XdeYZTDhsUYH"
      }
    },
    {
      "cell_type": "code",
      "source": [
        "!echo \"A hill is an area of land that is higher than the land that surrounds it.\" | bin/candc --models models/boxer"
      ],
      "metadata": {
        "id": "j19GTMAYsUYT"
      },
      "execution_count": null,
      "outputs": []
    },
    {
      "cell_type": "markdown",
      "source": [
        "### Salva o modelo na pasta definida"
      ],
      "metadata": {
        "id": "Mck48ws5sUYU"
      }
    },
    {
      "cell_type": "code",
      "source": [
        "#Define a frase\n",
        "frase = \"A hill is an area of land that is higher than the land that surrounds it.\""
      ],
      "metadata": {
        "id": "kA0JESs2swY_"
      },
      "execution_count": null,
      "outputs": []
    },
    {
      "cell_type": "code",
      "source": [
        "# Gera frase C&C para isnerir no Boxer\n",
        "command = f\"echo '{frase}' | bin/candc --models models/boxer > working/frase_1.ccg\"\n",
        "subprocess.run(command, shell=True, check=True, capture_output=True)"
      ],
      "metadata": {
        "id": "8aF4K76KtDoH"
      },
      "execution_count": null,
      "outputs": []
    },
    {
      "cell_type": "markdown",
      "source": [
        "### Cria relações do boxer padrão prolog semantics drs\n",
        "Salva na pasta CANDC/candc-1.00/working"
      ],
      "metadata": {
        "id": "tlnib8LNsUYU"
      }
    },
    {
      "cell_type": "code",
      "source": [
        "# Gera boxer\n",
        "command = \"bin/boxer --input working/frase_1.ccg --box true --flat true --instantiate true --format xml > working/frase1_boxer_xml_inst.ccg\"\n",
        "subprocess.run(command, shell=True, check=True, capture_output=True)\n"
      ],
      "metadata": {
        "id": "xBxtuHhpsUYU"
      },
      "execution_count": null,
      "outputs": []
    },
    {
      "cell_type": "code",
      "source": [
        "# Gera boxer\n",
        "command = \"bin/boxer --input working/frase_1.ccg --box true --flat true --instantiate true > working/frase1_boxer_inst.ccg\"\n",
        "subprocess.run(command, shell=True, check=True, capture_output=True)\n"
      ],
      "metadata": {
        "id": "G8bOzuPau4Cw"
      },
      "execution_count": null,
      "outputs": []
    },
    {
      "cell_type": "code",
      "source": [
        "# Gera boxer\n",
        "command = \"bin/boxer --input working/frase_1.ccg --instantiate true --format xml > working/frase1_boxer_xml.ccg\"\n",
        "subprocess.run(command, shell=True, check=True, capture_output=True)\n",
        "command = \"mv working/frase1_boxer_xml.ccg working/frase1_boxer_xml.xml\"\n",
        "subprocess.run(command, shell=True, check=True, capture_output=True)"
      ],
      "metadata": {
        "id": "GXfj0vQ6vL93"
      },
      "execution_count": null,
      "outputs": []
    },
    {
      "cell_type": "code",
      "source": [
        "from xml.etree import ElementTree as ET\n",
        "\n",
        "# Carregar o XML\n",
        "path = \"/content/CANDC/candc-1.00/working/frase1_boxer_xml.xml\"\n",
        "tree = ET.parse(path)\n",
        "root = tree.getroot()\n",
        "\n",
        "# Extrair palavras\n",
        "words = [word.text for word in root.findall(\".//word\")]\n",
        "\n",
        "# Extrair relações\n",
        "relations = []\n",
        "for rel in root.findall(\".//rel\"):\n",
        "    arg1 = rel.get('arg1')\n",
        "    arg2 = rel.get('arg2')\n",
        "    symbol = rel.get('symbol')\n",
        "    relations.append((arg1, arg2, symbol))\n",
        "\n",
        "# Extrair predicados\n",
        "predicates = []\n",
        "for pred in root.findall(\".//pred\"):\n",
        "    arg = pred.get('arg')\n",
        "    symbol = pred.get('symbol')\n",
        "    predicates.append((arg, symbol))\n",
        "\n",
        "# Representação gráfica (como exemplo de saída)\n",
        "for word in words:\n",
        "    print(\"Word:\", word)\n",
        "\n",
        "for relation in relations:\n",
        "    print(\"Relation:\", relation)\n",
        "\n",
        "for predicate in predicates:\n",
        "    print(\"Predicate:\", predicate)\n"
      ],
      "metadata": {
        "id": "ZruI4aWp_oRa"
      },
      "execution_count": null,
      "outputs": []
    },
    {
      "cell_type": "markdown",
      "source": [
        "## Função que extrai relações de sentenças"
      ],
      "metadata": {
        "id": "Xaxvu_OQhKXL"
      }
    },
    {
      "cell_type": "code",
      "source": [
        "from xml.etree import ElementTree as ET\n",
        "\n",
        "def extract_relations(sentence):\n",
        "  # Gera frase C&C para inserir no Boxer\n",
        "  command = f\"echo '{sentence}' | bin/candc --models models/boxer > working/fraseparser_temp.ccg\"\n",
        "  subprocess.run(command, shell=True, check=True, capture_output=True)\n",
        "  # Gera boxer em xml\n",
        "  command = \"bin/boxer --input working/fraseparser_temp.ccg --box true --flat true --instantiate true --format xml > working/frasexml_temp.ccg\"\n",
        "  subprocess.run(command, shell=True, check=True, capture_output=True)\n",
        "  # Converte para XML\n",
        "  command = \"mv working/frasexml_temp.ccg working/frasexml_temp.xml\"\n",
        "  subprocess.run(command, shell=True, check=True, capture_output=True)\n",
        "\n",
        "  # Carregar o XML\n",
        "  path = \"/content/CANDC/candc-1.00/working/frasexml_temp.xml\"\n",
        "  tree = ET.parse(path)\n",
        "  root = tree.getroot()\n",
        "\n",
        "  # Extrair palavras\n",
        "  words = [word.text for word in root.findall(\".//word\")]\n",
        "\n",
        "  # Extrair relações\n",
        "  relations = []\n",
        "  for rel in root.findall(\".//rel\"):\n",
        "      arg1 = rel.get('arg1')\n",
        "      arg2 = rel.get('arg2')\n",
        "      symbol = rel.get('symbol')\n",
        "      relations.append((arg1, arg2, symbol))\n",
        "\n",
        "  # Extrair predicados\n",
        "  predicates = []\n",
        "  for pred in root.findall(\".//pred\"):\n",
        "      arg = pred.get('arg')\n",
        "      symbol = pred.get('symbol')\n",
        "      predicates.append((arg, symbol))\n",
        "\n",
        "  return words, relations, predicates\n",
        "\n"
      ],
      "metadata": {
        "id": "k8vqHEF_axpZ"
      },
      "execution_count": null,
      "outputs": []
    },
    {
      "cell_type": "code",
      "source": [
        "words1, relations1, predicates1 = extract_relations(\"The boy who kills the snake is strong.\")\n",
        "words2, relations2, predicates2 = extract_relations(\"The man is killed by a strong snake.\")\n"
      ],
      "metadata": {
        "id": "D2eCre_AcT6c"
      },
      "execution_count": null,
      "outputs": []
    },
    {
      "cell_type": "code",
      "source": [
        "# Representação gráfica (como exemplo de saída)\n",
        "for word in words2, words1:\n",
        "    print(\"Word:\", word)\n",
        "\n",
        "for relation in relations2, relations1:\n",
        "    print(\"Relation:\", relation)\n",
        "\n",
        "for predicate in predicates2, predicates1:\n",
        "    print(\"Predicate:\", predicate)"
      ],
      "metadata": {
        "id": "bZbs1aWreLEf"
      },
      "execution_count": null,
      "outputs": []
    },
    {
      "cell_type": "markdown",
      "source": [
        "## Configura embeddings"
      ],
      "metadata": {
        "id": "hvpStslNhpCF"
      }
    },
    {
      "cell_type": "code",
      "source": [
        "from gensim.models import Word2Vec\n",
        "from gensim.models import KeyedVectors\n",
        "import gensim.downloader as api\n",
        "import nltk\n",
        "nltk.download('punkt')\n",
        "from nltk.tokenize import word_tokenize\n",
        "import numpy as np"
      ],
      "metadata": {
        "id": "6STt8Ganhoge"
      },
      "execution_count": null,
      "outputs": []
    },
    {
      "cell_type": "code",
      "source": [
        "model = api.load('word2vec-google-news-300')"
      ],
      "metadata": {
        "id": "Rlp1wH9Nhrfc"
      },
      "execution_count": null,
      "outputs": []
    },
    {
      "cell_type": "code",
      "source": [
        "def get_word_embeddings(sentence):\n",
        "\n",
        "    # Tokenizando a sentença\n",
        "    tokens = word_tokenize(sentence)\n",
        "\n",
        "    # Obtendo o embedding para cada palavra\n",
        "    word_embeddings = {word: model[word] for word in tokens if word in model}\n",
        "\n",
        "    return word_embeddings\n",
        "\n",
        "# embeddings = get_word_embeddings(sentence)\n",
        "\n",
        "# # Imprimindo os embeddings para cada palavra\n",
        "# for word, embedding in embeddings.items():\n",
        "#     print(f\"Word: {word}\\nEmbedding: {embedding}\\n\")"
      ],
      "metadata": {
        "id": "Al7cc6O-htPn"
      },
      "execution_count": null,
      "outputs": []
    },
    {
      "cell_type": "markdown",
      "source": [
        "## Cria matriz de relações"
      ],
      "metadata": {
        "id": "AF72uBcWhj4X"
      }
    },
    {
      "cell_type": "code",
      "source": [
        "from scipy.spatial.distance import cosine\n",
        "\n",
        "def create_relation_matrix(relations1, relations2, word_embeddings):\n",
        "    similarity_matrix = []\n",
        "    for relation1 in relations1:\n",
        "        row = []\n",
        "        for relation2 in relations2:\n",
        "            similarity = calculate_similarity(relation1, relation2, word_embeddings)\n",
        "            row.append(similarity)\n",
        "        similarity_matrix.append(row)\n",
        "    return similarity_matrix\n",
        "\n",
        "def calculate_similarity(relation1, relation2, word_embeddings):\n",
        "    # Similaridade entre argumentos\n",
        "    arg1_similarity = 1 - cosine(word_embeddings[relation1[0]], word_embeddings[relation2[0]]) if relation1[0] in word_embeddings and relation2[0] in word_embeddings else 0\n",
        "    arg2_similarity = 1 - cosine(word_embeddings[relation1[1]], word_embeddings[relation2[1]]) if relation1[1] in word_embeddings and relation2[1] in word_embeddings else 0\n",
        "    symbol_similarity = 1 - cosine(word_embeddings[relation1[2]], word_embeddings[relation2[2]]) if relation1[2] in word_embeddings and relation2[2] in word_embeddings else 0\n",
        "\n",
        "    # Pode-se calcular a similaridade total de várias maneiras. A média é apenas uma opção.\n",
        "    total_similarity = (arg1_similarity + arg2_similarity + symbol_similarity) / 3\n",
        "\n",
        "    return total_similarity\n",
        "\n",
        "# Exemplo de uso\n",
        "word_embeddings1 = get_word_embeddings(\"The boy who kills the snake is strong.\")\n",
        "word_embeddings2 = get_word_embeddings(\"The boy is killed by a strong snake.\")\n",
        "relation_matrix = create_relation_matrix(relations1, relations2, word_embeddings1)\n"
      ],
      "metadata": {
        "id": "UPeaMHM_dluk"
      },
      "execution_count": null,
      "outputs": []
    },
    {
      "cell_type": "code",
      "source": [
        "print(relation_matrix)"
      ],
      "metadata": {
        "id": "xda5sl3Tkwer"
      },
      "execution_count": null,
      "outputs": []
    },
    {
      "cell_type": "markdown",
      "source": [
        "## Gera grafos teste"
      ],
      "metadata": {
        "id": "UG8ZL15BhfqQ"
      }
    },
    {
      "cell_type": "code",
      "source": [
        "import xml.etree.ElementTree as ET\n",
        "import networkx as nx\n",
        "import matplotlib.pyplot as plt\n",
        "\n",
        "# Parse the XML file\n",
        "tree = ET.parse('/content/CANDC/candc-1.00/working/frase1_boxer_xml.xml')\n",
        "root = tree.getroot()\n",
        "\n",
        "# Create a directed graph\n",
        "G = nx.DiGraph()\n",
        "\n",
        "# Traverse the XML tree and add nodes and edges to the graph\n",
        "for pred in root.iter('pred'):\n",
        "    node_name = pred.attrib['arg']\n",
        "    node_value = pred.attrib['symbol']\n",
        "    G.add_node(node_name, value=node_value)\n",
        "\n",
        "edge_labels = {}\n",
        "for rel in root.iter('rel'):\n",
        "    from_node = rel.attrib['arg1']\n",
        "    to_node = rel.attrib['arg2']\n",
        "    relation = rel.attrib['symbol']\n",
        "    G.add_edge(from_node, to_node)\n",
        "    edge_labels[(from_node, to_node)] = relation\n",
        "\n",
        "# Draw the graph\n",
        "pos = nx.spring_layout(G)  # positions for all nodes\n",
        "\n",
        "# nodes\n",
        "nx.draw_networkx_nodes(G, pos, node_size=700)\n",
        "\n",
        "# edges\n",
        "nx.draw_networkx_edges(G, pos, width=2)\n",
        "\n",
        "# labels\n",
        "node_labels = nx.get_node_attributes(G, 'value')\n",
        "nx.draw_networkx_labels(G, pos, labels=node_labels, font_size=12)\n",
        "nx.draw_networkx_edge_labels(G, pos, edge_labels=edge_labels, font_size=8)\n",
        "\n",
        "plt.axis('off')\n",
        "plt.show()\n"
      ],
      "metadata": {
        "id": "JMKkv47ZwJoT"
      },
      "execution_count": null,
      "outputs": []
    },
    {
      "cell_type": "code",
      "source": [
        "import xml.etree.ElementTree as ET\n",
        "\n",
        "def extract_relations(file_path):\n",
        "    tree = ET.parse(file_path)\n",
        "    root = tree.getroot()\n",
        "    relations = []\n",
        "\n",
        "    for rel in root.findall(\".//rel\"):\n",
        "        arg1 = rel.attrib['arg1']\n",
        "        arg2 = rel.attrib['arg2']\n",
        "        symbol = rel.attrib['symbol']\n",
        "        relations.append((arg1, arg2, symbol))\n",
        "\n",
        "    return relations\n",
        "\n",
        "import networkx as nx\n",
        "import matplotlib.pyplot as plt\n",
        "\n",
        "def construct_graph(relations):\n",
        "    G = nx.Graph()\n",
        "\n",
        "    for relation in relations:\n",
        "        arg1, arg2, symbol = relation\n",
        "        G.add_edge(arg1, arg2, label=symbol)\n",
        "\n",
        "    return G\n",
        "\n",
        "def draw_graph(G):\n",
        "    pos = nx.spring_layout(G)\n",
        "    nx.draw_networkx_nodes(G, pos)\n",
        "    nx.draw_networkx_edges(G, pos)\n",
        "    labels = nx.get_edge_attributes(G, 'label')\n",
        "    nx.draw_networkx_edge_labels(G, pos, edge_labels=labels)\n",
        "    nx.draw_networkx_labels(G, pos)\n",
        "    plt.show()\n",
        "\n",
        "file_path = '/content/CANDC/candc-1.00/working/frase1_boxer_xml.xml'\n",
        "relations = extract_relations(file_path)\n",
        "G = construct_graph(relations)\n",
        "draw_graph(G)\n"
      ],
      "metadata": {
        "id": "zKCFE26TAs9b"
      },
      "execution_count": null,
      "outputs": []
    },
    {
      "cell_type": "code",
      "source": [],
      "metadata": {
        "id": "6mjCrPTmwQ8E"
      },
      "execution_count": null,
      "outputs": []
    }
  ]
}