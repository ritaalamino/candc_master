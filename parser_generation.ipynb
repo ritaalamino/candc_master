{
 "cells": [
  {
   "cell_type": "code",
   "execution_count": 26,
   "metadata": {},
   "outputs": [],
   "source": [
    "def split(input_str, delimiter, max_splits=50):\n",
    "    # Convert input to string if it's bytes\n",
    "    if isinstance(input_str, bytes):\n",
    "        input_str = input_str.decode('utf-8')\n",
    "        \n",
    "    items = input_str.split(delimiter)\n",
    "    # Limit the number of splits to max_splits or 50, whichever is smaller\n",
    "    limited_items = items[:min(max_splits, 50)]\n",
    "    \n",
    "    return limited_items\n",
    "\n",
    "def isNeglectable(pos):\n",
    "    neglectable_set = {'CC', 'CD', 'DT', 'EX', 'IN', 'LS', 'MD', 'PDT', 'POS', 'SYM', 'TO', 'UH', 'VBZ', \"','\", '', '.'}\n",
    "    return pos in neglectable_set\n",
    "\n",
    "def trimQuotes(str_):\n",
    "    if len(str_) == 0:\n",
    "        return \"\"\n",
    "    return str_[1:-1]\n",
    "\n",
    "def trimPr(str_):\n",
    "    if len(str_) == 0:\n",
    "        return \"\"\n",
    "    return str_[2:-1]"
   ]
  },
  {
   "cell_type": "code",
   "execution_count": 48,
   "metadata": {},
   "outputs": [],
   "source": [
    "from typing import List, NamedTuple\n",
    "\n",
    "\n",
    "class Token:\n",
    "    def __init__(self, str_, pos, lemma, ner):\n",
    "        self.str = str_\n",
    "        self.pos = pos\n",
    "        self.lemma = lemma\n",
    "        self.ner = ner\n",
    "\n",
    "\n",
    "class Parser:\n",
    "    def __init__(self):\n",
    "        self.tokens = []\n",
    "\n",
    "    @staticmethod\n",
    "    def parse(st):\n",
    "        tokens = Parser.getTokens(st)\n",
    "        for i, token in enumerate(tokens):\n",
    "            pos_trimmed = Parser.trimQuotes(token.pos)\n",
    "            print(f\"{pos_trimmed}  ----- {i}\")\n",
    "            if Parser.isNeglectable(pos_trimmed):\n",
    "                continue\n",
    "            print(f\"{token.str}   {token.pos}\")\n",
    "\n",
    "    @staticmethod\n",
    "    def get_tokens(st: str) -> List[Token]:\n",
    "        i = 0\n",
    "        toks = []\n",
    "        \n",
    "        # Find the first '['\n",
    "        while st[i] != '[':\n",
    "            i += 1\n",
    "        i += 1\n",
    "\n",
    "        while i < len(st) and st[i] != ']':\n",
    "            t = i\n",
    "            \n",
    "            # Find the next ']'\n",
    "            while i < len(st) and st[i] != ']':\n",
    "                i += 1\n",
    "            token_str = st[t:i]\n",
    "            print(f\"Token string: {token_str}\")\n",
    "            list_ = split(token_str, ',', 20)\n",
    "            print(f\"List: {list_}\")\n",
    "\n",
    "            sublist = split(list_[0], ':', 4)\n",
    "            str_ = sublist[1] if len(sublist) > 1 else \"\"\n",
    "            \n",
    "            sublist = split(list_[1], ':', 4)\n",
    "            pos = sublist[1] if len(sublist) > 1 else \"\"\n",
    "            \n",
    "            sublist = split(list_[2], ':', 4)\n",
    "            lemma = sublist[1] if len(sublist) > 1 else \"\"\n",
    "            \n",
    "            sublist = split(list_[3], ':', 4)\n",
    "            ner = sublist[1] if len(sublist) > 1 else \"\"\n",
    "            \n",
    "            tok = Token(str_, pos, lemma, ner)\n",
    "            toks.append(tok)\n",
    "            \n",
    "            i += 1\n",
    "\n",
    "        return toks"
   ]
  },
  {
   "cell_type": "code",
   "execution_count": 49,
   "metadata": {},
   "outputs": [],
   "source": [
    "\n",
    "def process(s: str) -> str:\n",
    "    p = Parser()\n",
    "    toks = p.get_tokens(s)\n",
    "    st = []\n",
    "\n",
    "    for i, tok in enumerate(toks):\n",
    "        pos_trimmed = trimQuotes(tok.pos)\n",
    "        print(f\"{pos_trimmed}  ----- {i}\")\n",
    "        if isNeglectable(pos_trimmed):\n",
    "            continue\n",
    "        print(f\"{tok.str} ()()()()()()(  {tok.pos}\")\n",
    "\n",
    "        if tok.str and tok.str[0] == ' ':\n",
    "            st.append(trimPr(tok.str))\n",
    "        else:\n",
    "            st.append(tok.str)\n",
    "\n",
    "        st.append(\" \")\n",
    "        st.append(trimQuotes(tok.pos))\n",
    "        st.append(\" \")\n",
    "\n",
    "    return \"\".join(st)"
   ]
  },
  {
   "cell_type": "code",
   "execution_count": 50,
   "metadata": {},
   "outputs": [
    {
     "name": "stdout",
     "output_type": "stream",
     "text": [
      "Token string: [1001\n",
      "List: ['[1001']\n"
     ]
    },
    {
     "ename": "IndexError",
     "evalue": "list index out of range",
     "output_type": "error",
     "traceback": [
      "\u001b[0;31m---------------------------------------------------------------------------\u001b[0m",
      "\u001b[0;31mIndexError\u001b[0m                                Traceback (most recent call last)",
      "\u001b[1;32m/home/ritaalamino/workspace/Testes/Mestrado/parser_generation.ipynb Cell 4\u001b[0m line \u001b[0;36m6\n\u001b[1;32m      <a href='vscode-notebook-cell://wsl%2Bubuntu-20.04/home/ritaalamino/workspace/Testes/Mestrado/parser_generation.ipynb#W4sdnNjb2RlLXJlbW90ZQ%3D%3D?line=0'>1</a>\u001b[0m \u001b[39m# # Test the function\u001b[39;00m\n\u001b[1;32m      <a href='vscode-notebook-cell://wsl%2Bubuntu-20.04/home/ritaalamino/workspace/Testes/Mestrado/parser_generation.ipynb#W4sdnNjb2RlLXJlbW90ZQ%3D%3D?line=1'>2</a>\u001b[0m \u001b[39m# test_str = \"[str: 'A', pos: 'DT', lemma: 'a', ner: 'O'], [str: 'hill', pos: 'NN', lemma: 'hill', ner: 'O']\"\u001b[39;00m\n\u001b[1;32m      <a href='vscode-notebook-cell://wsl%2Bubuntu-20.04/home/ritaalamino/workspace/Testes/Mestrado/parser_generation.ipynb#W4sdnNjb2RlLXJlbW90ZQ%3D%3D?line=2'>3</a>\u001b[0m \u001b[39m# result = process(test_str)\u001b[39;00m\n\u001b[1;32m      <a href='vscode-notebook-cell://wsl%2Bubuntu-20.04/home/ritaalamino/workspace/Testes/Mestrado/parser_generation.ipynb#W4sdnNjb2RlLXJlbW90ZQ%3D%3D?line=3'>4</a>\u001b[0m \u001b[39m# print(result)\u001b[39;00m\n\u001b[1;32m      <a href='vscode-notebook-cell://wsl%2Bubuntu-20.04/home/ritaalamino/workspace/Testes/Mestrado/parser_generation.ipynb#W4sdnNjb2RlLXJlbW90ZQ%3D%3D?line=4'>5</a>\u001b[0m \u001b[39m# Test the function\u001b[39;00m\n\u001b[0;32m----> <a href='vscode-notebook-cell://wsl%2Bubuntu-20.04/home/ritaalamino/workspace/Testes/Mestrado/parser_generation.ipynb#W4sdnNjb2RlLXJlbW90ZQ%3D%3D?line=5'>6</a>\u001b[0m result \u001b[39m=\u001b[39m process(\u001b[39m\"\u001b[39;49m\u001b[39mmerge(drs([[1001]:_G32965], [[1002]:pred(_G32965, hill, n, 0)]), merge(merge(drs([[1004]:_G33027, [1007]:_G33048], [[1005]:pred(_G33027, area, n, 0), [1007]:pred(_G33048, land, n, 0)]), merge(merge(drs([[1010]:_G33133], [[1010]:prop(_G33133, drs([], [[1010]:pred(_G33048, higher, a, 0)]))]), alfa(def, drs([[1012]:_G33217], [[1013]:pred(_G33217, land, n, 0)]), drs([[1016]:_G33267, [1015]:_G33288], [[1016]:pred(_G33267, it, n, 0), [1015]:pred(_G33288, surround, v, 0), []:pred(_G33288, event, n, 1), []:pred(_G33133, event, n, 1), [1015]:rel(_G33288, _G33217, agent, 0), [1015]:rel(_G33288, _G33267, patient, 0), [1011]:rel(_G33133, _G33217, than, 0)]))), drs([], [[1006]:rel(_G33027, _G33048, of, 0)]))), drs([[1003]:_G33517], [[]:pred(_G33517, event, n, 1), [1003]:prop(_G33517, drs([], [[1003]:eq(_G32965, _G33027)]))]))) ).\u001b[39;49m\u001b[39m\"\u001b[39;49m)\n\u001b[1;32m      <a href='vscode-notebook-cell://wsl%2Bubuntu-20.04/home/ritaalamino/workspace/Testes/Mestrado/parser_generation.ipynb#W4sdnNjb2RlLXJlbW90ZQ%3D%3D?line=6'>7</a>\u001b[0m \u001b[39mprint\u001b[39m(result)\n",
      "\u001b[1;32m/home/ritaalamino/workspace/Testes/Mestrado/parser_generation.ipynb Cell 4\u001b[0m line \u001b[0;36m3\n\u001b[1;32m      <a href='vscode-notebook-cell://wsl%2Bubuntu-20.04/home/ritaalamino/workspace/Testes/Mestrado/parser_generation.ipynb#W4sdnNjb2RlLXJlbW90ZQ%3D%3D?line=0'>1</a>\u001b[0m \u001b[39mdef\u001b[39;00m \u001b[39mprocess\u001b[39m(s: \u001b[39mstr\u001b[39m) \u001b[39m-\u001b[39m\u001b[39m>\u001b[39m \u001b[39mstr\u001b[39m:\n\u001b[1;32m      <a href='vscode-notebook-cell://wsl%2Bubuntu-20.04/home/ritaalamino/workspace/Testes/Mestrado/parser_generation.ipynb#W4sdnNjb2RlLXJlbW90ZQ%3D%3D?line=1'>2</a>\u001b[0m     p \u001b[39m=\u001b[39m Parser()\n\u001b[0;32m----> <a href='vscode-notebook-cell://wsl%2Bubuntu-20.04/home/ritaalamino/workspace/Testes/Mestrado/parser_generation.ipynb#W4sdnNjb2RlLXJlbW90ZQ%3D%3D?line=2'>3</a>\u001b[0m     toks \u001b[39m=\u001b[39m p\u001b[39m.\u001b[39;49mget_tokens(s)\n\u001b[1;32m      <a href='vscode-notebook-cell://wsl%2Bubuntu-20.04/home/ritaalamino/workspace/Testes/Mestrado/parser_generation.ipynb#W4sdnNjb2RlLXJlbW90ZQ%3D%3D?line=3'>4</a>\u001b[0m     st \u001b[39m=\u001b[39m []\n\u001b[1;32m      <a href='vscode-notebook-cell://wsl%2Bubuntu-20.04/home/ritaalamino/workspace/Testes/Mestrado/parser_generation.ipynb#W4sdnNjb2RlLXJlbW90ZQ%3D%3D?line=5'>6</a>\u001b[0m     \u001b[39mfor\u001b[39;00m i, tok \u001b[39min\u001b[39;00m \u001b[39menumerate\u001b[39m(toks):\n",
      "\u001b[1;32m/home/ritaalamino/workspace/Testes/Mestrado/parser_generation.ipynb Cell 4\u001b[0m line \u001b[0;36m5\n\u001b[1;32m     <a href='vscode-notebook-cell://wsl%2Bubuntu-20.04/home/ritaalamino/workspace/Testes/Mestrado/parser_generation.ipynb#W4sdnNjb2RlLXJlbW90ZQ%3D%3D?line=46'>47</a>\u001b[0m sublist \u001b[39m=\u001b[39m split(list_[\u001b[39m0\u001b[39m], \u001b[39m'\u001b[39m\u001b[39m:\u001b[39m\u001b[39m'\u001b[39m, \u001b[39m4\u001b[39m)\n\u001b[1;32m     <a href='vscode-notebook-cell://wsl%2Bubuntu-20.04/home/ritaalamino/workspace/Testes/Mestrado/parser_generation.ipynb#W4sdnNjb2RlLXJlbW90ZQ%3D%3D?line=47'>48</a>\u001b[0m str_ \u001b[39m=\u001b[39m sublist[\u001b[39m1\u001b[39m] \u001b[39mif\u001b[39;00m \u001b[39mlen\u001b[39m(sublist) \u001b[39m>\u001b[39m \u001b[39m1\u001b[39m \u001b[39melse\u001b[39;00m \u001b[39m\"\u001b[39m\u001b[39m\"\u001b[39m\n\u001b[0;32m---> <a href='vscode-notebook-cell://wsl%2Bubuntu-20.04/home/ritaalamino/workspace/Testes/Mestrado/parser_generation.ipynb#W4sdnNjb2RlLXJlbW90ZQ%3D%3D?line=49'>50</a>\u001b[0m sublist \u001b[39m=\u001b[39m split(list_[\u001b[39m1\u001b[39;49m], \u001b[39m'\u001b[39m\u001b[39m:\u001b[39m\u001b[39m'\u001b[39m, \u001b[39m4\u001b[39m)\n\u001b[1;32m     <a href='vscode-notebook-cell://wsl%2Bubuntu-20.04/home/ritaalamino/workspace/Testes/Mestrado/parser_generation.ipynb#W4sdnNjb2RlLXJlbW90ZQ%3D%3D?line=50'>51</a>\u001b[0m pos \u001b[39m=\u001b[39m sublist[\u001b[39m1\u001b[39m] \u001b[39mif\u001b[39;00m \u001b[39mlen\u001b[39m(sublist) \u001b[39m>\u001b[39m \u001b[39m1\u001b[39m \u001b[39melse\u001b[39;00m \u001b[39m\"\u001b[39m\u001b[39m\"\u001b[39m\n\u001b[1;32m     <a href='vscode-notebook-cell://wsl%2Bubuntu-20.04/home/ritaalamino/workspace/Testes/Mestrado/parser_generation.ipynb#W4sdnNjb2RlLXJlbW90ZQ%3D%3D?line=52'>53</a>\u001b[0m sublist \u001b[39m=\u001b[39m split(list_[\u001b[39m2\u001b[39m], \u001b[39m'\u001b[39m\u001b[39m:\u001b[39m\u001b[39m'\u001b[39m, \u001b[39m4\u001b[39m)\n",
      "\u001b[0;31mIndexError\u001b[0m: list index out of range"
     ]
    }
   ],
   "source": [
    "# # Test the function\n",
    "# test_str = \"[str: 'A', pos: 'DT', lemma: 'a', ner: 'O'], [str: 'hill', pos: 'NN', lemma: 'hill', ner: 'O']\"\n",
    "# result = process(test_str)\n",
    "# print(result)\n",
    "# Test the function\n",
    "result = process(\"merge(drs([[1001]:_G32965], [[1002]:pred(_G32965, hill, n, 0)]), merge(merge(drs([[1004]:_G33027, [1007]:_G33048], [[1005]:pred(_G33027, area, n, 0), [1007]:pred(_G33048, land, n, 0)]), merge(merge(drs([[1010]:_G33133], [[1010]:prop(_G33133, drs([], [[1010]:pred(_G33048, higher, a, 0)]))]), alfa(def, drs([[1012]:_G33217], [[1013]:pred(_G33217, land, n, 0)]), drs([[1016]:_G33267, [1015]:_G33288], [[1016]:pred(_G33267, it, n, 0), [1015]:pred(_G33288, surround, v, 0), []:pred(_G33288, event, n, 1), []:pred(_G33133, event, n, 1), [1015]:rel(_G33288, _G33217, agent, 0), [1015]:rel(_G33288, _G33267, patient, 0), [1011]:rel(_G33133, _G33217, than, 0)]))), drs([], [[1006]:rel(_G33027, _G33048, of, 0)]))), drs([[1003]:_G33517], [[]:pred(_G33517, event, n, 1), [1003]:prop(_G33517, drs([], [[1003]:eq(_G32965, _G33027)]))]))) ).\")\n",
    "print(result)"
   ]
  },
  {
   "cell_type": "code",
   "execution_count": null,
   "metadata": {},
   "outputs": [],
   "source": []
  },
  {
   "cell_type": "code",
   "execution_count": null,
   "metadata": {},
   "outputs": [],
   "source": []
  },
  {
   "cell_type": "code",
   "execution_count": null,
   "metadata": {},
   "outputs": [],
   "source": []
  }
 ],
 "metadata": {
  "kernelspec": {
   "display_name": "Python 3",
   "language": "python",
   "name": "python3"
  },
  "language_info": {
   "codemirror_mode": {
    "name": "ipython",
    "version": 3
   },
   "file_extension": ".py",
   "mimetype": "text/x-python",
   "name": "python",
   "nbconvert_exporter": "python",
   "pygments_lexer": "ipython3",
   "version": "3.9.16"
  },
  "orig_nbformat": 4
 },
 "nbformat": 4,
 "nbformat_minor": 2
}
